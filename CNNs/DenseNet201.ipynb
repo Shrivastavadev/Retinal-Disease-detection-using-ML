{
  "nbformat": 4,
  "nbformat_minor": 0,
  "metadata": {
    "colab": {
      "provenance": [],
      "gpuType": "T4",
      "authorship_tag": "ABX9TyNV264fo+WpHJiDsFwADYqI"
    },
    "kernelspec": {
      "name": "python3",
      "display_name": "Python 3"
    },
    "language_info": {
      "name": "python"
    },
    "accelerator": "GPU"
  },
  "cells": [
    {
      "cell_type": "code",
      "execution_count": null,
      "metadata": {
        "id": "nD-5zc9CK8mD"
      },
      "outputs": [],
      "source": [
        "import tensorflow\n",
        "\n",
        "import pandas as pd\n",
        "import numpy as np\n",
        "import os\n",
        "import keras\n",
        "import random\n",
        "import cv2\n",
        "import math\n",
        "import seaborn as sns\n",
        "\n",
        "from sklearn.metrics import confusion_matrix\n",
        "from sklearn.preprocessing import LabelBinarizer\n",
        "from sklearn.model_selection import train_test_split\n",
        "\n",
        "import matplotlib.pyplot as plt\n",
        "\n",
        "from tensorflow.keras.layers import Dense,GlobalAveragePooling2D,Convolution2D,BatchNormalization\n",
        "from tensorflow.keras.layers import Flatten,MaxPooling2D,Dropout\n",
        "\n",
        "from tensorflow.keras.applications import DenseNet201\n",
        "from tensorflow.keras.applications.densenet import preprocess_input\n",
        "\n",
        "from tensorflow.keras.preprocessing import image\n",
        "from tensorflow.keras.preprocessing.image import ImageDataGenerator,img_to_array\n",
        "\n",
        "from tensorflow.keras import Model\n",
        "\n",
        "from tensorflow.keras.optimizers import Adam\n",
        "\n",
        "from tensorflow.keras.callbacks import ModelCheckpoint, ReduceLROnPlateau\n",
        "\n",
        "import warnings\n",
        "warnings.filterwarnings(\"ignore\")"
      ]
    },
    {
      "cell_type": "code",
      "source": [
        "# mounting data\n",
        "from google.colab import drive\n",
        "drive.mount('/content/drive')\n",
        "path_dataset = \"/content/drive/MyDrive/dataset_ML/RFMiD\"\n",
        "path_image_train = \"/content/drive/MyDrive/dataset_ML/RFMiD/Training_Set/Training_Set/Training\"\n",
        "path_RFMiD_CSV = \"/content/drive/MyDrive/dataset_ML/RFMiD/Training_Set/Training_Set/csvdata/RFMiD.csv\"\n"
      ],
      "metadata": {
        "colab": {
          "base_uri": "https://localhost:8080/"
        },
        "id": "Ord8saUuasI3",
        "outputId": "6e81964a-54d3-44e2-bf82-11d2000284fe"
      },
      "execution_count": null,
      "outputs": [
        {
          "output_type": "stream",
          "name": "stdout",
          "text": [
            "Mounted at /content/drive\n"
          ]
        }
      ]
    },
    {
      "cell_type": "code",
      "source": [
        "model_d=DenseNet121(weights='imagenet',include_top=False, input_shape=(128, 128, 3))\n",
        "\n",
        "x=model_d.output\n",
        "\n",
        "x= GlobalAveragePooling2D()(x)\n",
        "x= BatchNormalization()(x)\n",
        "x= Dropout(0.5)(x)\n",
        "x= Dense(1024,activation='relu')(x)\n",
        "x= Dense(512,activation='relu')(x)\n",
        "x= BatchNormalization()(x)\n",
        "x= Dropout(0.5)(x)\n",
        "\n",
        "preds=Dense(25,activation='softmax')(x) #FC-layer # 8 is the number of classification to be done\n",
        "model=Model(inputs=model_d.input,outputs=preds)\n",
        "model.summary()"
      ],
      "metadata": {
        "id": "fzRViY74Tj8X"
      },
      "execution_count": null,
      "outputs": []
    },
    {
      "cell_type": "code",
      "source": [
        "for layer in model.layers[:-8]:\n",
        "    layer.trainable=False\n",
        "\n",
        "for layer in model.layers[-8:]:\n",
        "    layer.trainable=True\n",
        "\n",
        "model.compile(optimizer='Adam',loss='categorical_crossentropy',metrics=['accuracy'])\n",
        "model.summary()"
      ],
      "metadata": {
        "id": "LvCFyuwqTlXv"
      },
      "execution_count": null,
      "outputs": []
    },
    {
      "cell_type": "code",
      "source": [
        "try:\n",
        "  data =np.load(\"/content/drive/MyDrive/dataset_ML/RFMiD/Training_Set/Training_Set/temporary/Densenet121_data.npy\")\n",
        "  labels = np.load(\"/content/drive/MyDrive/dataset_ML/RFMiD/Training_Set/Training_Set/temporary/Densenet121_labels.npy\")\n",
        "except FileNotFoundError:\n",
        "  data = []\n",
        "  labels = []\n",
        "\n",
        "  # Load the CSV file\n",
        "  df = pd.read_csv(path_RFMiD_CSV)\n",
        "  # Loop through each row in the CSV file\n",
        "  for index, row in df.iterrows():\n",
        "      # Load the image and resize it\n",
        "      path_ = os.path.join(path_image_train+ \"/\" + str(row['ID'])+\".png\")\n",
        "      print(row[\"ID\"],end=\" \")\n",
        "      image = cv2.imread(path_)\n",
        "      image = cv2.resize(image, (128, 128))\n",
        "      print(\"image data added\")\n",
        "      image = img_to_array(image)\n",
        "      data.append(image)\n",
        "\n",
        "      # Get the labels for this image\n",
        "      labels_row = [row[label] for label in df.columns if label != 'ID']\n",
        "      label_array = np.array(labels_row)\n",
        "      labels.append(label_array)\n",
        "\n",
        "  # Convert the data and labels to numpy arrays\n",
        "  data = np.array(data, dtype=\"float32\") / 255.0 ##### this step is important as it converts the images pixle value from range 1-0 ######\n",
        "  labels = np.array(labels)\n",
        "  path_save_data=\"/content/drive/MyDrive/dataset_ML/RFMiD/Training_Set/Training_Set/temporary/Densenet121_data.npy\"\n",
        "  path_save_label=\"/content/drive/MyDrive/dataset_ML/RFMiD/Training_Set/Training_Set/temporary/Densenet121_labels.npy\"\n",
        "  np.save(path_save_data, data)\n",
        "  np.save(path_save_label, labels)\n",
        "else:\n",
        "  print(\"data and labels loaded\")\n",
        "\n",
        "print(data.shape)\n",
        "print(labels.shape)\n",
        "\n"
      ],
      "metadata": {
        "id": "W1YcA42QTt3p"
      },
      "execution_count": null,
      "outputs": []
    },
    {
      "cell_type": "code",
      "source": [
        "# train test split:\n",
        "(xtrain,xtest,ytrain,ytest)=train_test_split(data,labels,test_size=0.2,random_state=42)\n",
        "print(xtrain.shape, xtest.shape)\n",
        "print(ytrain.shape, ytest.shape)"
      ],
      "metadata": {
        "id": "FFCv4U0lTvWd"
      },
      "execution_count": null,
      "outputs": []
    },
    {
      "cell_type": "code",
      "source": [
        "anne = ReduceLROnPlateau(monitor='val_accuracy', factor=0.5, patience=5, verbose=1, min_lr=1e-3)\n",
        "checkpoint = ModelCheckpoint('model.h5', verbose=1, save_best_only=True)\n",
        "\n",
        "datagen = ImageDataGenerator()\n",
        "\n",
        "\n",
        "datagen.fit(xtrain)\n",
        "# Fits-the-model\n",
        "history = model.fit_generator(datagen.flow(xtrain, ytrain, batch_size=128),\n",
        "               steps_per_epoch=xtrain.shape[0] //128,\n",
        "               epochs=50,\n",
        "               verbose=2,\n",
        "               callbacks=[anne, checkpoint],\n",
        "               validation_data=(xtrain, ytrain))"
      ],
      "metadata": {
        "id": "6DZYoyK7T1gJ"
      },
      "execution_count": null,
      "outputs": []
    },
    {
      "cell_type": "code",
      "source": [
        "ypred = model.predict(xtest)\n",
        "\n",
        "total = 0\n",
        "accurate = 0\n",
        "accurateindex = []\n",
        "wrongindex = []\n",
        "\n",
        "for i in range(len(ypred)):\n",
        "    if np.argmax(ypred[i]) == np.argmax(ytest[i]):\n",
        "        accurate += 1\n",
        "        accurateindex.append(i)\n",
        "    else:\n",
        "        wrongindex.append(i)\n",
        "\n",
        "    total += 1\n",
        "\n",
        "print('Total-test-data;', total, '\\taccurately-predicted-data:', accurate, '\\t wrongly-predicted-data: ', total - accurate)\n",
        "print('Accuracy:', round(accurate/total*100, 3), '%')"
      ],
      "metadata": {
        "id": "OozR4SlOT2Zy"
      },
      "execution_count": null,
      "outputs": []
    },
    {
      "cell_type": "code",
      "source": [
        "label = ['DR', 'ARMD', 'MH', 'DN', 'MYA', 'BRVO',\n",
        "          'TSLN', 'ERM', 'LS', 'MS', 'CSR', 'ODC',\n",
        "          'CRVO', 'AH', 'ODP', 'ODE', 'AION', 'PT',\n",
        "          'RT', 'RS', 'CRS', 'EDN', 'RPEC', 'MHL']\n",
        "imidx = random.sample(accurateindex, k=9)# replace with 'wrongindex'\n",
        "\n",
        "nrows = 3\n",
        "ncols = 3\n",
        "fig, ax = plt.subplots(nrows,ncols,sharex=True,sharey=True,figsize=(15, 12))\n",
        "\n",
        "n = 0\n",
        "for row in range(nrows):\n",
        "    for col in range(ncols):\n",
        "            ax[row,col].imshow(xtest[imidx[n]])\n",
        "            ax[row,col].set_title(\"Predicted label :{}\\nTrue label :{}\".format(label[np.argmax(ypred[imidx[n]])], label[np.argmax(ytest[imidx[n]])]))\n",
        "            n += 1\n",
        "\n",
        "plt.show()"
      ],
      "metadata": {
        "id": "bOpN7I1qT-lE"
      },
      "execution_count": null,
      "outputs": []
    }
  ]
}